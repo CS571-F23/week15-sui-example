{
 "cells": [
  {
   "cell_type": "code",
   "execution_count": null,
   "id": "7e1626e0",
   "metadata": {},
   "outputs": [],
   "source": [
    "import os\n",
    "import sqlite3\n",
    "import pandas as pd"
   ]
  },
  {
   "cell_type": "code",
   "execution_count": null,
   "id": "6252a0e1",
   "metadata": {},
   "outputs": [],
   "source": [
    "piazza_path = \"piazza.db\"\n",
    "assert os.path.exists(piazza_path)\n",
    "conn = sqlite3.connect(piazza_path)"
   ]
  },
  {
   "cell_type": "code",
   "execution_count": null,
   "id": "ccf3535d",
   "metadata": {},
   "outputs": [],
   "source": [
    "pd.read_sql(\"SELECT * FROM sqlite_master WHERE type='table'\", conn)"
   ]
  },
  {
   "cell_type": "code",
   "execution_count": null,
   "id": "cadf85eb",
   "metadata": {},
   "outputs": [],
   "source": [
    "piazza_df = pd.read_sql(\"SELECT * FROM piazza\", conn)\n",
    "piazza_df"
   ]
  },
  {
   "cell_type": "code",
   "execution_count": null,
   "id": "4a4089e4",
   "metadata": {},
   "outputs": [],
   "source": [
    "# INCORRECT WAY! Concatenation can lead to SQL Injection!\n",
    "stud_id = input(\"What student id would you like to lookup? \").strip()\n",
    "res = pd.read_sql(\"SELECT * FROM piazza WHERE student_id='{}'\".format(stud_id), conn)\n",
    "\n",
    "output = \"\"\n",
    "if (len(res) == 0):\n",
    "    output = \"Sorry, that student does not exist!\"\n",
    "else:\n",
    "    output = res\n",
    "output"
   ]
  },
  {
   "cell_type": "code",
   "execution_count": null,
   "id": "bd71b2bc",
   "metadata": {},
   "outputs": [],
   "source": [
    "# CORRECT WAY! Parameterized SQL Query.\n",
    "stud_id = input(\"What student id would you like to lookup? \").strip()\n",
    "\n",
    "# Give question marks and params instead!\n",
    "res = pd.read_sql_query(\"SELECT * FROM piazza WHERE student_id=(?)\", conn, params=[stud_id])\n",
    "\n",
    "output = \"\"\n",
    "if (len(res) == 0):\n",
    "    output = \"Sorry, that student does not exist!\"\n",
    "else:\n",
    "    output = res\n",
    "output"
   ]
  },
  {
   "cell_type": "code",
   "execution_count": null,
   "id": "09205b59",
   "metadata": {},
   "outputs": [],
   "source": [
    "# What if an execute could run many SQL queries? Could be VERY bad!\n",
    "def execManySQL(sql, c=conn):\n",
    "    stmts = sql.split(\";\")\n",
    "    results = []\n",
    "    for stmt in stmts:\n",
    "        stmt = stmt.strip()\n",
    "        results.append(pd.read_sql(stmt, c))   \n",
    "    return results\n",
    "\n",
    "stud_id = input(\"What student id would you like to lookup? \").strip()\n",
    "res = execManySQL(\"SELECT * FROM piazza WHERE student_id='{}'\".format(stud_id), conn)[0]\n",
    "\n",
    "output = \"\"\n",
    "if (len(res) == 0):\n",
    "    output = \"Sorry, that student does not exist!\"\n",
    "else:\n",
    "    output = res\n",
    "output"
   ]
  },
  {
   "cell_type": "code",
   "execution_count": null,
   "id": "a9478e2d",
   "metadata": {},
   "outputs": [],
   "source": [
    "conn.close()"
   ]
  }
 ],
 "metadata": {
  "kernelspec": {
   "display_name": "Python 3 (ipykernel)",
   "language": "python",
   "name": "python3"
  },
  "language_info": {
   "codemirror_mode": {
    "name": "ipython",
    "version": 3
   },
   "file_extension": ".py",
   "mimetype": "text/x-python",
   "name": "python",
   "nbconvert_exporter": "python",
   "pygments_lexer": "ipython3",
   "version": "3.11.4"
  }
 },
 "nbformat": 4,
 "nbformat_minor": 5
}
